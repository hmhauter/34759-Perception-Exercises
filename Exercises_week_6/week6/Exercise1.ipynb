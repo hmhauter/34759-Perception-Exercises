{
 "cells": [
  {
   "attachments": {},
   "cell_type": "markdown",
   "metadata": {},
   "source": [
    "# Exercise 1: Linear regression\n",
    "Initially we will work on 2D points and then expand it out to 3D.\n",
    "\n",
    "We'll do the necessary imports for the notebook and then generate some data.\n",
    "\n",
    "The data generation is as follows:\n",
    "$$\n",
    "x \\sim \\mathcal{N}(\\mu_x, \\sigma_x^2)\n",
    "$$ \n",
    "with $\\mu_x=1.5$ being the mean and $\\sigma_x = 2.5$ being the standard deviation.\n",
    "\n",
    "We also add a normally distributed error term with zero mean $\\mu_\\epsilon=0$ and standard deviation\n",
    "$\\sigma_\\epsilon=0.5$."
   ]
  },
  {
   "cell_type": "code",
   "execution_count": null,
   "metadata": {},
   "outputs": [],
   "source": [
    "import numpy as np\n",
    "import open3d as o3d\n",
    "from matplotlib import pyplot as plt\n",
    "from sklearn.linear_model import LinearRegression\n",
    "from mpl_toolkits.mplot3d import Axes3D\n",
    "\n",
    "# Generate 'random' data\n",
    "np.random.seed(0)\n",
    "x = np.random.normal(1.5, 2.5, 100)   # Array of 100 values with mean = 1.5, stddev = 2.5\n",
    "res = np.random.normal(0, 0.5, 100)       # Generate 100 residual terms (mean=0, std=0.5)\n",
    "y = 2 + 0.3 * x + res                  # Actual values of Y\n"
   ]
  },
  {
   "attachments": {},
   "cell_type": "markdown",
   "metadata": {},
   "source": [
    "We can use the linear regression algorithm from the `sklearn` package.\n",
    "Here, we setup the model to fit `x` to `y`."
   ]
  },
  {
   "cell_type": "code",
   "execution_count": null,
   "metadata": {},
   "outputs": [],
   "source": [
    "x_r = x.reshape(-1,1) #fit needs x in this shape\n",
    "# Initialise and fit model\n",
    "lm = LinearRegression()\n",
    "model = lm.fit(x_r, y)"
   ]
  },
  {
   "cell_type": "markdown",
   "metadata": {},
   "source": [
    "We can now predict new outcomes given new data."
   ]
  },
  {
   "cell_type": "code",
   "execution_count": null,
   "metadata": {},
   "outputs": [],
   "source": [
    "# Draw a new datapoint\n",
    "tst_x = 2.5 * np.random.randn(1).reshape(-1,1) + 1.5   \n",
    "print(tst_x)\n",
    "resulting_y = model.predict(tst_x)\n",
    "print(resulting_y)"
   ]
  },
  {
   "cell_type": "markdown",
   "metadata": {},
   "source": [
    "Drawing 200 new samples and plotting them as a line shows us that we have gotten a decent fit."
   ]
  },
  {
   "cell_type": "code",
   "execution_count": null,
   "metadata": {
    "scrolled": false
   },
   "outputs": [],
   "source": [
    "new_x = 2.5 * np.random.randn(200).reshape(-1,1) + 1.5   \n",
    "predicted = model.predict(new_x)\n",
    "plt.figure(figsize=(8, 6))\n",
    "plt.plot(new_x, predicted)     # regression line\n",
    "plt.plot(x, y, 'ro')   # scatter plot showing actual data\n",
    "plt.title('Actual vs Predicted')\n",
    "plt.xlabel('x')\n",
    "plt.ylabel('y')\n",
    "plt.show()"
   ]
  },
  {
   "attachments": {},
   "cell_type": "markdown",
   "metadata": {},
   "source": [
    "## Exercises\n",
    "### A\n",
    "Using [Ordinary Least Squares (OLS)](https://en.wikipedia.org/wiki/Ordinary_least_squares), attempt to get a regression line that is equal to the one `sklearn` provides.\n",
    "\n",
    "Assuming that the data is modeled by the following, having $N$ data points available:\n",
    "$$\n",
    "\\underbrace{\\hat{\\mathbf{y}}}_{N \\times 1} = \\underbrace{\\beta^\\text{*}}_{N\\times (K+1)} \\underbrace{\\mathbf{X}}_{(K+1) \\times 1} + \\underbrace{\\varepsilon}_{N \\times 1} \n",
    "$$\n",
    "Ordinary Least squares optimizes the parameters $\\beta$ such that the resdiual error (measured by the Sum of Squared Errors (SSE) objective/loss function $L$) is minimal (regression). That is:\n",
    "$$\n",
    "L(\\mathbf{X}_i, y_i;\\mathbf{\\beta}) = \\sum_{i=1}^N (y_i - \\hat{y_i})^2 \\\\\n",
    "\\beta^\\text{*} = \\argmin_\\beta L(\\mathbf{X}, \\mathbf{y};\\beta)\n",
    "$$\n",
    "where $y_i$ is the true value and $\\hat{y_i}$ is the predicted value given a point $\\mathbf{X}_i \\in \\mathbb{R}$.\n",
    "We won't go into detail here how to solve this optimization problem but instead give you the solution directly:\n",
    "$$\n",
    "\\beta^\\text{*} = (\\mathbf{X}^\\top \\mathbf{X})^{-1}\\mathbf{X}^\\top \\mathbf{y}\n",
    "$$\n",
    "Using this, you need to organize your data in matrices of shapes $(N, K+1)$ for $\\mathbf{X}$ with $N$ being the number of data points and $K$ being the dimension of $\\mathbf{X_i}$, i.e. $\\mathbf{X}_i \\in \\mathbb{R}^K$. The $+1$ is for the intercept, so $\\beta_0$ will be our intercept term. For $\\mathbf{y}$, you need to make sure it is of shape $(N, 1)$. So, the first row of $\\mathbf{X}$ would look like this if $\\mathbf{X}_i \\in \\mathbb{R}$:\n",
    "$$\n",
    "\\mathbf{X_0} = \\begin{bmatrix}0 & x_{1,0}\\end{bmatrix}\n",
    "$$\n",
    "<details open>\n",
    "<summary>If the above formulation is too complicated, here's another formulation</summary>\n",
    "<br>\n",
    "Assuming\n",
    "Yₑ = α + β X\n",
    "\n",
    "![ols.gif](ols.gif \"ols\")\n",
    "\n",
    "- β = Cov(X, Y) / Var(X).\n",
    "- α = mean(Y)-β*mean(X)\n",
    "\n",
    "</br>\n",
    "</details>\n",
    "\n",
    "### B\n",
    "Extend what we have shown above to 3D predict a plane using Linear regression given a point cloud.\n",
    "\n",
    "Planes can be plotted with \n",
    "```{Python}\n",
    "x = np.linspace(start, end, n)\n",
    "y = np.linspace(start, end, n)\n",
    "xx, yy = np.meshgrid(x_t, y_t)\n",
    "\n",
    "ax.plot_surface(xx, yy, predicted_zz, alpha=0.2)\n",
    "```"
   ]
  },
  {
   "cell_type": "code",
   "execution_count": null,
   "metadata": {},
   "outputs": [],
   "source": [
    "# Creating a pointcloud.\n",
    "pc = o3d.io.read_point_cloud(\"TestData/spread_points.ply\")\n",
    "xyz = np.asarray(pc.points)\n",
    "\n",
    "fig = plt.figure(figsize=(6,4))\n",
    "ax = plt.axes(projection='3d')\n",
    "ax.scatter3D(xyz[:,0], xyz[:,1], xyz[:,2], color = 'red')\n",
    "ax.set_xlabel('x', fontsize=12)\n",
    "ax.set_ylabel('y', fontsize=12)\n",
    "ax.set_zlabel('z', fontsize=12)\n",
    "plt.show()\n"
   ]
  },
  {
   "cell_type": "code",
   "execution_count": null,
   "metadata": {},
   "outputs": [],
   "source": [
    "## We want to predict Z\n",
    "xy = xyz[:,:2] # our inputs\n",
    "z = xyz[:,2].reshape(-1,1) # our targets"
   ]
  }
 ],
 "metadata": {
  "kernelspec": {
   "display_name": "pfas",
   "language": "python",
   "name": "python3"
  },
  "language_info": {
   "codemirror_mode": {
    "name": "ipython",
    "version": 3
   },
   "file_extension": ".py",
   "mimetype": "text/x-python",
   "name": "python",
   "nbconvert_exporter": "python",
   "pygments_lexer": "ipython3",
   "version": "3.10.8"
  },
  "toc": {
   "base_numbering": 1,
   "nav_menu": {},
   "number_sections": true,
   "sideBar": true,
   "skip_h1_title": false,
   "title_cell": "Table of Contents",
   "title_sidebar": "Contents",
   "toc_cell": false,
   "toc_position": {},
   "toc_section_display": true,
   "toc_window_display": false
  },
  "varInspector": {
   "cols": {
    "lenName": 16,
    "lenType": 16,
    "lenVar": 40
   },
   "kernels_config": {
    "python": {
     "delete_cmd_postfix": "",
     "delete_cmd_prefix": "del ",
     "library": "var_list.py",
     "varRefreshCmd": "print(var_dic_list())"
    },
    "r": {
     "delete_cmd_postfix": ") ",
     "delete_cmd_prefix": "rm(",
     "library": "var_list.r",
     "varRefreshCmd": "cat(var_dic_list()) "
    }
   },
   "types_to_exclude": [
    "module",
    "function",
    "builtin_function_or_method",
    "instance",
    "_Feature"
   ],
   "window_display": false
  },
  "vscode": {
   "interpreter": {
    "hash": "cd5a613775d973e3ebb98e1e77334e79b1df328fc590baa0c4f920a9a4d0a201"
   }
  }
 },
 "nbformat": 4,
 "nbformat_minor": 4
}
