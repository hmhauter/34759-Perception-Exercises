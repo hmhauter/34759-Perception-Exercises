{
 "cells": [
  {
   "attachments": {},
   "cell_type": "markdown",
   "metadata": {},
   "source": [
    "# Global registration with RANSAC\n",
    "We are going to use [open3d](http://www.open3d.org/) to handle point clouds and generation of point clouds\n",
    "We are importing the packages and defining a function which helps us drawing the point clouds."
   ]
  },
  {
   "cell_type": "code",
   "execution_count": 1,
   "metadata": {},
   "outputs": [
    {
     "name": "stdout",
     "output_type": "stream",
     "text": [
      "Jupyter environment detected. Enabling Open3D WebVisualizer.\n",
      "[Open3D INFO] WebRTC GUI backend enabled.\n",
      "[Open3D INFO] WebRTCWindowSystem: HTTP handshake server disabled.\n"
     ]
    }
   ],
   "source": [
    "import open3d as o3d\n",
    "import numpy as np\n",
    "import copy\n",
    "\n",
    "# helper function for drawing\n",
    "# If you want it to be more clear set recolor=True\n",
    "def draw_registrations(source, target, transformation = None, recolor = False):\n",
    "    source_temp = copy.deepcopy(source)\n",
    "    target_temp = copy.deepcopy(target)\n",
    "    if(recolor):\n",
    "        source_temp.paint_uniform_color([1, 0.706, 0])\n",
    "        target_temp.paint_uniform_color([0, 0.651, 0.929])\n",
    "    if(transformation is not None):\n",
    "        source_temp.transform(transformation)\n",
    "    o3d.visualization.draw_geometries([source_temp, target_temp])"
   ]
  },
  {
   "attachments": {},
   "cell_type": "markdown",
   "metadata": {},
   "source": [
    "We need to read in our pointclouds. For that we use the `io` module of the\n",
    "open3d package (`o3d`). The following cell will open a window with a\n",
    "visualization of both point clouds `source` and `target`.\n",
    "\n",
    "Also, this page [Visualization - Open3D](http://open3d.org/html/tutorial/Basic/visualization.html)\n",
    "contains some useful examples and instructions on how to use the viewer."
   ]
  },
  {
   "cell_type": "code",
   "execution_count": 2,
   "metadata": {},
   "outputs": [],
   "source": [
    "source = o3d.io.read_point_cloud(\"ICP/r1.pcd\")\n",
    "target = o3d.io.read_point_cloud(\"ICP/r2.pcd\")\n",
    "\n",
    "# Used for downsampling.\n",
    "voxel_size = 0.05\n",
    "\n",
    "# Show models side by side\n",
    "draw_registrations(source, target)"
   ]
  },
  {
   "attachments": {},
   "cell_type": "markdown",
   "metadata": {},
   "source": [
    "### Finding features in pointclouds\n",
    "When working on point clouds it can be beneficial to work on a downsampled version of the point cloud,\n",
    "as it decreases the need of computation.\n",
    "\n",
    "You can use [`pointcloud.voxel_down_sample()`](http://www.open3d.org/docs/latest/python_api/open3d.geometry.PointCloud.html#open3d.geometry.PointCloud.voxel_down_sample) where `pointcloud` is the name of your point cloud object. In our case, that would be `source` and `target`.\n",
    "\n",
    "We also need to estimate the normals of the point cloud points using [`pointcloud.estimate_normals()`](http://www.open3d.org/docs/latest/python_api/open3d.geometry.PointCloud.html#open3d.geometry.PointCloud.voxel_down_sample)\n",
    "\n",
    "**Task:** Find FPFH features or correspondances of the downsampled point clouds.\n",
    "[`o3d.pipelines.registration.compute_fpfh_feature()`](http://www.open3d.org/docs/latest/python_api/open3d.pipelines.registration.compute_fpfh_feature.html)\n"
   ]
  },
  {
   "cell_type": "code",
   "execution_count": 3,
   "metadata": {},
   "outputs": [],
   "source": [
    "####\n",
    "# Downsample and find features here\n",
    "####\n",
    "vs = 0.05\n",
    "source = source.voxel_down_sample(voxel_size=vs)\n",
    "target = target.voxel_down_sample(voxel_size=vs)\n",
    "# o3d.visualization.draw_geometries([source])\n",
    "n1 = source.estimate_normals()\n",
    "n2 = target.estimate_normals()\n",
    "\n",
    "# Code\n",
    "radius_feature = vs * 5\n",
    "f_source = o3d.pipelines.registration.compute_fpfh_feature(source, o3d.geometry.KDTreeSearchParamHybrid(radius=radius_feature, max_nn=100))\n",
    "f_target = o3d.pipelines.registration.compute_fpfh_feature(target, o3d.geometry.KDTreeSearchParamHybrid(radius=radius_feature, max_nn=100))"
   ]
  },
  {
   "attachments": {},
   "cell_type": "markdown",
   "metadata": {},
   "source": [
    "### RANSAC \n",
    "We will now attempt to use RANSAC to do a global registration of the two point clouds.\n",
    "\n",
    "By using the function [`o3d.pipelines.registration.registration_ransac_based_on_feature_matching`](http://www.open3d.org/docs/latest/python_api/open3d.pipelines.registration.registration_ransac_based_on_feature_matching.html) from open3d, do the following:\n",
    "\n",
    "\n",
    "Try to find the transformation from `r1.pcd` (`source`) to `r2.pcd` (`target`).\n",
    "Attempt with point-to-point and point-to-plane\n",
    "```Python\n",
    "point_to_point =  o3d.pipelines.registration.TransformationEstimationPointToPoint(False)\n",
    "point_to_plane =  o3d.pipelines.registration.TransformationEstimationPointToPlane()\n",
    "```\n",
    "\n",
    "When using RANSAC, focus on the arguments below. The rest are optional parameters.\n",
    "```Python\n",
    "ransac_result = o3d.registration.registration_ransac_based_on_feature_matching(\n",
    "    source_sample, target_sample, \n",
    "    source_fpfh, target_fpfh, \n",
    "    distance_threshold,\n",
    "    point_to_point)\n",
    "```"
   ]
  },
  {
   "cell_type": "code",
   "execution_count": 4,
   "metadata": {},
   "outputs": [
    {
     "name": "stdout",
     "output_type": "stream",
     "text": [
      "[[-0.56858333  0.82256312  0.01014441  0.69409416]\n",
      " [-0.29946575 -0.21845494  0.92876138  1.15918183]\n",
      " [ 0.76618095  0.52504034  0.37053932 -1.64746226]\n",
      " [ 0.          0.          0.          1.        ]]\n"
     ]
    }
   ],
   "source": [
    "####\n",
    "# Call RANSAC here\n",
    "####\n",
    "point_to_point =  o3d.pipelines.registration.TransformationEstimationPointToPoint(False)\n",
    "point_to_plane =  o3d.pipelines.registration.TransformationEstimationPointToPlane()\n",
    "distance_threshold = vs * 1.5\n",
    "ransac_result = o3d.pipelines.registration.registration_ransac_based_on_feature_matching(\n",
    "    source, target, \n",
    "    f_source, f_target, True,\n",
    "    distance_threshold,\n",
    "    point_to_point)\n",
    "print(ransac_result.transformation)\n",
    "draw_registrations(source, target, ransac_result.transformation, True)"
   ]
  },
  {
   "attachments": {},
   "cell_type": "markdown",
   "metadata": {},
   "source": [
    "## Exercises\n",
    "### A)\n",
    "Can you get a decent transformation from r1 to r3? (check the ICP folder)\n",
    "### B)\n",
    "With the following checkers, can you get better results from RANSAC? Try tweaking the parameters of them. Can you make point-to-plane work? Do not spend too much time on this, if you can't manage, skip it. (I was not able to get a good fit.)\n",
    "\n",
    "You can also try tweaking the `voxel_size`\n",
    "\n",
    "```Python\n",
    "corr_length = 0.9\n",
    "distance_threshold = voxel_size * 1.5\n",
    "\n",
    "c0 = o3d.pipelines.registration.CorrespondenceCheckerBasedOnEdgeLength(corr_length)\n",
    "c1 = o3d.pipelines.registration.CorrespondenceCheckerBasedOnDistance(distance_threshold)\n",
    "c2 = o3d.pipelines.registration.CorrespondenceCheckerBasedOnNormal(0.095)\n",
    "\n",
    "checker_list = [c0,c1,c2]\n",
    "\n",
    "ransac_result = o3d.registration.registration_ransac_based_on_feature_matching(\n",
    "    source_sample, target_sample, \n",
    "    source_fpfh, target_fpfh, \n",
    "    True,\n",
    "    distance_threshold,\n",
    "    point_to_point,\n",
    "    checkers = checker_list)\n",
    "```\n"
   ]
  },
  {
   "cell_type": "code",
   "execution_count": 5,
   "metadata": {},
   "outputs": [
    {
     "name": "stdout",
     "output_type": "stream",
     "text": [
      "[[ 0.40333658  0.9144853  -0.03219084 -0.5751598 ]\n",
      " [ 0.09464977 -0.00670336  0.99548806  0.25853439]\n",
      " [ 0.91014341 -0.4045636  -0.08925953  0.93468216]\n",
      " [ 0.          0.          0.          1.        ]]\n"
     ]
    }
   ],
   "source": [
    "# GET TRANSFORMATION from R1 to R3\n",
    "r1 = o3d.io.read_point_cloud(\"ICP/r1.pcd\")\n",
    "r3 = o3d.io.read_point_cloud(\"ICP/r3.pcd\")\n",
    "\n",
    "vs = 0.05\n",
    "r1 = r1.voxel_down_sample(voxel_size=vs)\n",
    "r3 = r3.voxel_down_sample(voxel_size=vs)\n",
    "draw_registrations(r1, r3)\n",
    "# Code\n",
    "point_to_point =  o3d.pipelines.registration.TransformationEstimationPointToPoint(False)\n",
    "radius_feature = vs * 5\n",
    "f_r1 = o3d.pipelines.registration.compute_fpfh_feature(r1, o3d.geometry.KDTreeSearchParamHybrid(radius=radius_feature, max_nn=100))\n",
    "f_r3 = o3d.pipelines.registration.compute_fpfh_feature(r3, o3d.geometry.KDTreeSearchParamHybrid(radius=radius_feature, max_nn=100))\n",
    "distance_threshold = vs * 1.5\n",
    "ransac_result = o3d.pipelines.registration.registration_ransac_based_on_feature_matching(\n",
    "    r1, r3, \n",
    "    f_r1, f_r3, True,\n",
    "    distance_threshold,\n",
    "    point_to_point)\n",
    "print(ransac_result.transformation)\n",
    "draw_registrations(r1, r3, ransac_result.transformation, True)"
   ]
  },
  {
   "cell_type": "code",
   "execution_count": 6,
   "metadata": {},
   "outputs": [],
   "source": [
    "corr_length = 0.9\n",
    "distance_threshold = vs * 5\n",
    "\n",
    "c0 = o3d.pipelines.registration.CorrespondenceCheckerBasedOnEdgeLength(corr_length)\n",
    "c1 = o3d.pipelines.registration.CorrespondenceCheckerBasedOnDistance(distance_threshold)\n",
    "c2 = o3d.pipelines.registration.CorrespondenceCheckerBasedOnNormal(0.095)\n",
    "\n",
    "checker_list = [c0,c1,c2]\n",
    "\n",
    "ransac_result = o3d.pipelines.registration.registration_ransac_based_on_feature_matching(\n",
    "    r1, r3, \n",
    "    f_r1, f_r3, \n",
    "    True,\n",
    "    distance_threshold,\n",
    "    point_to_point,\n",
    "    checkers = checker_list)\n",
    "draw_registrations(r1, r3, ransac_result.transformation, True)"
   ]
  }
 ],
 "metadata": {
  "kernelspec": {
   "display_name": "pfas",
   "language": "python",
   "name": "python3"
  },
  "language_info": {
   "codemirror_mode": {
    "name": "ipython",
    "version": 3
   },
   "file_extension": ".py",
   "mimetype": "text/x-python",
   "name": "python",
   "nbconvert_exporter": "python",
   "pygments_lexer": "ipython3",
   "version": "3.10.9"
  },
  "vscode": {
   "interpreter": {
    "hash": "8667f60d411a4cdc3ab94fe9f445dccbfdc05ceaf135084130ce22b40d7acf37"
   }
  }
 },
 "nbformat": 4,
 "nbformat_minor": 4
}
