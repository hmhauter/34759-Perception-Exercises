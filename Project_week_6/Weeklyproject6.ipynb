{
 "cells": [
  {
   "attachments": {},
   "cell_type": "markdown",
   "metadata": {},
   "source": [
    "# Weekly project 6\n",
    "Today we will continue work from monday.\n",
    "We will follow the style of last week.\n",
    "\n",
    "Weekly project:\n",
    "- You will need to implement your own k-means algorithm. You are not allowed to use the implementation in `sklearn`.\n",
    "- It should be able to cluster each of the different figures.\n",
    "- Extend your k-means so it finds the optimal amount of clusters.\n",
    "  \n",
    "## Challenge\n",
    "- Implement the mean shift clustering algorithm\n"
   ]
  },
  {
   "cell_type": "code",
   "execution_count": 4,
   "metadata": {},
   "outputs": [],
   "source": [
    "import numpy as np\n",
    "import open3d as o3d\n",
    "import copy\n",
    "import matplotlib.pyplot as plt\n",
    "\n",
    "def draw_labels_on_model(pcl, labels):\n",
    "    cmap = plt.get_cmap(\"tab20\")\n",
    "    pcl_temp = copy.deepcopy(pcl)\n",
    "    max_label = labels.max()\n",
    "    colors = cmap(labels / (max_label if max_label > 0 else 1))\n",
    "    colors[labels < 0] = 0\n",
    "    pcl_temp.colors = o3d.utility.Vector3dVector(colors[:, :3])\n",
    "    o3d.visualization.draw_geometries([pcl_temp])\n",
    "\n",
    "d = 4\n",
    "mesh = o3d.geometry.TriangleMesh.create_tetrahedron().translate((-d, 0, 0))\n",
    "mesh += o3d.geometry.TriangleMesh.create_octahedron().translate((0, 0, 0))\n",
    "mesh += o3d.geometry.TriangleMesh.create_icosahedron().translate((d, 0, 0))\n",
    "mesh += o3d.geometry.TriangleMesh.create_torus().translate((-d, -d, 0))\n",
    "mesh += o3d.geometry.TriangleMesh.create_mobius(twists=1).translate((0, -d, 0))\n",
    "mesh += o3d.geometry.TriangleMesh.create_mobius(twists=2).translate((d, -d, 0))\n",
    "\n",
    "## apply k means on this\n",
    "point_cloud = mesh.sample_points_uniformly(int(1e3))\n",
    "\n",
    "o3d.visualization.draw_geometries([point_cloud])\n"
   ]
  },
  {
   "cell_type": "code",
   "execution_count": 16,
   "metadata": {},
   "outputs": [],
   "source": [
    "def kmeans(points, k, max_iterations=1000):\n",
    "    \"\"\"Your implementation goes here\n",
    "\n",
    "    Args:\n",
    "    Replace the arguments by what you think is necessary.\n",
    "        \n",
    "        arg1 (_type_): _description_\n",
    "        arg2 (_type_): _description_\n",
    "    \"\"\"\n",
    "    # start with randomly init centroids\n",
    "    centroids = points[np.random.choice(points.shape[0], k, replace=False), :]\n",
    "\n",
    "    for i in range(max_iterations):\n",
    "        # Sum of Squared Euclidean Distances (Distortion)\n",
    "        distances = np.sqrt(((points - centroids[:, np.newaxis])**2).sum(axis=2))\n",
    "        labels = np.argmin(distances, axis=0)\n",
    "\n",
    "        # get new centroids\n",
    "        for j in range(k):\n",
    "            centroids[j, :] = points[labels == j, :].mean(axis=0)\n",
    "\n",
    "    return labels\n",
    "\n",
    "\n",
    "\n",
    "num_clusters = 6\n",
    "points = np.asarray(point_cloud.points)\n",
    "labels = kmeans(points, 6, 5000)\n",
    "\n",
    "draw_labels_on_model(point_cloud, labels)"
   ]
  },
  {
   "cell_type": "code",
   "execution_count": 6,
   "metadata": {},
   "outputs": [
    {
     "name": "stdout",
     "output_type": "stream",
     "text": [
      "[[-4.19964891e+00  5.14144172e-01 -3.33333333e-01]\n",
      " [-3.35174510e+00 -4.00305183e-02 -3.33333333e-01]\n",
      " [-4.12573443e+00 -8.31798091e-02 -3.33333333e-01]\n",
      " ...\n",
      " [ 5.44557093e+00 -4.30487242e+00 -1.00572068e-01]\n",
      " [ 5.28010905e+00 -4.13095968e+00 -2.96138004e-02]\n",
      " [ 5.19174682e+00 -4.00139077e+00 -1.73933264e-04]]\n"
     ]
    }
   ],
   "source": [
    "o3d.visualization.draw_geometries([point_cloud])\n",
    "print(np.asarray(point_cloud.points))"
   ]
  },
  {
   "cell_type": "code",
   "execution_count": 22,
   "metadata": {},
   "outputs": [
    {
     "data": {
      "image/png": "[encoded data removed]",
      "text/plain": [
       "<Figure size 640x480 with 1 Axes>"
      ]
     },
     "metadata": {},
     "output_type": "display_data"
    },
    {
     "name": "stdout",
     "output_type": "stream",
     "text": [
      "7\n"
     ]
    }
   ],
   "source": [
    "# implement silhouette method to findoptimal amount of clusters\n",
    "\n",
    "def compute_silhouette_score(X, k, labels):\n",
    "    distances = np.sqrt(((X[:, np.newaxis, :] - X) ** 2).sum(axis=2))\n",
    "    a = np.zeros(X.shape[0])\n",
    "    for i in range(k):\n",
    "        mask = labels == i\n",
    "        if mask.any():\n",
    "            a[mask] = np.mean(distances[mask][:, mask], axis=1)\n",
    "\n",
    "    b = np.zeros(X.shape[0])\n",
    "    for i in range(k):\n",
    "        mask_i = labels == i  \n",
    "        if mask_i.any():\n",
    "            mask_not_i = np.logical_not(mask_i)\n",
    "            b_i = np.mean(distances[mask_i][:, mask_not_i], axis=1)\n",
    "            b[mask_i] = np.min(b_i)\n",
    "    s = (b - a) / np.maximum(a, b)\n",
    "    silhouette_score = np.mean(s)\n",
    "    return silhouette_score\n",
    "\n",
    "def kmeans_silhouette():\n",
    "    k_values = range(2, 10)\n",
    "    silhouette_scores = []\n",
    "\n",
    "    for k in k_values:\n",
    "        labels = kmeans(points, k, 1000)\n",
    "        silhouette_scores.append(compute_silhouette_score(points, k, labels))\n",
    "\n",
    "    # Plot the average silhouette score against the number of clusters\n",
    "    plt.plot(k_values, silhouette_scores, 'bx-')\n",
    "    plt.xlabel('k')\n",
    "    plt.ylabel('Silhouette score')\n",
    "    plt.title('Silhouette Analysis')\n",
    "    plt.show()\n",
    "    return np.array(silhouette_scores).argmax()\n",
    "\n",
    "kmax = kmeans_silhouette()\n",
    "print(kmax)\n",
    "points = np.asarray(point_cloud.points)\n",
    "labels = kmeans(points, kmax, 5000)\n",
    "\n",
    "draw_labels_on_model(point_cloud, labels)"
   ]
  },
  {
   "cell_type": "code",
   "execution_count": null,
   "metadata": {},
   "outputs": [],
   "source": [
    "# MEAN SHIFT ALGORITHM \n"
   ]
  }
 ],
 "metadata": {
  "kernelspec": {
   "display_name": "Python 3",
   "language": "python",
   "name": "python3"
  },
  "language_info": {
   "codemirror_mode": {
    "name": "ipython",
    "version": 3
   },
   "file_extension": ".py",
   "mimetype": "text/x-python",
   "name": "python",
   "nbconvert_exporter": "python",
   "pygments_lexer": "ipython3",
   "version": "3.10.9"
  },
  "toc": {
   "base_numbering": 1,
   "nav_menu": {},
   "number_sections": true,
   "sideBar": true,
   "skip_h1_title": false,
   "title_cell": "Table of Contents",
   "title_sidebar": "Contents",
   "toc_cell": false,
   "toc_position": {},
   "toc_section_display": true,
   "toc_window_display": false
  },
  "varInspector": {
   "cols": {
    "lenName": 16,
    "lenType": 16,
    "lenVar": 40
   },
   "kernels_config": {
    "python": {
     "delete_cmd_postfix": "",
     "delete_cmd_prefix": "del ",
     "library": "var_list.py",
     "varRefreshCmd": "print(var_dic_list())"
    },
    "r": {
     "delete_cmd_postfix": ") ",
     "delete_cmd_prefix": "rm(",
     "library": "var_list.r",
     "varRefreshCmd": "cat(var_dic_list()) "
    }
   },
   "types_to_exclude": [
    "module",
    "function",
    "builtin_function_or_method",
    "instance",
    "_Feature"
   ],
   "window_display": false
  }
 },
 "nbformat": 4,
 "nbformat_minor": 4
}
