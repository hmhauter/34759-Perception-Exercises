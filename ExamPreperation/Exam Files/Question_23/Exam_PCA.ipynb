{
 "cells": [
  {
   "cell_type": "code",
   "execution_count": 2,
   "metadata": {},
   "outputs": [],
   "source": [
    "import matplotlib.pyplot as plt  \n",
    "from matplotlib import style \n",
    "from sklearn.cluster import KMeans \n",
    "from sklearn.datasets._samples_generator import make_blobs \n",
    "from sklearn.decomposition import PCA\n",
    "import numpy as np\n",
    "# import sklearn.datasets._samples_generator\n",
    "\n",
    "# Loading the data\n",
    "X = np.loadtxt('clusters.txt', dtype=int)"
   ]
  },
  {
   "attachments": {},
   "cell_type": "markdown",
   "metadata": {},
   "source": [
    "# Sub-Question B - PCA\n",
    "Now perform principal component analysis on the given data. \n",
    "\n",
    "How many components do you need to express 95% of the variance?\n",
    "\n",
    "recall you call PCA:\n",
    "\n",
    "```{python}\n",
    "pca = PCA()\n",
    "pca.fit(X)\n",
    "```\n",
    "\n",
    "Documentation: https://scikit-learn.org/stable/modules/generated/sklearn.decomposition.PCA.html\n"
   ]
  },
  {
   "cell_type": "code",
   "execution_count": 14,
   "metadata": {},
   "outputs": [
    {
     "name": "stdout",
     "output_type": "stream",
     "text": [
      "0.9547933422569366\n"
     ]
    }
   ],
   "source": [
    "pca = PCA(n_components = 6)\n",
    "# principalComponents = pca.fit(X)\n",
    "principalComponents = pca.fit_transform(X)\n",
    "print(sum(pca.explained_variance_ratio_))"
   ]
  },
  {
   "cell_type": "code",
   "execution_count": null,
   "metadata": {},
   "outputs": [],
   "source": []
  }
 ],
 "metadata": {
  "kernelspec": {
   "display_name": "Python 3",
   "language": "python",
   "name": "python3"
  },
  "language_info": {
   "codemirror_mode": {
    "name": "ipython",
    "version": 3
   },
   "file_extension": ".py",
   "mimetype": "text/x-python",
   "name": "python",
   "nbconvert_exporter": "python",
   "pygments_lexer": "ipython3",
   "version": "3.10.9"
  }
 },
 "nbformat": 4,
 "nbformat_minor": 4
}
