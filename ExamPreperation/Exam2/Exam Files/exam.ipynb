{
 "cells": [
  {
   "cell_type": "code",
   "execution_count": 2,
   "metadata": {},
   "outputs": [
    {
     "name": "stdout",
     "output_type": "stream",
     "text": [
      "Jupyter environment detected. Enabling Open3D WebVisualizer.\n",
      "[Open3D INFO] WebRTC GUI backend enabled.\n",
      "[Open3D INFO] WebRTCWindowSystem: HTTP handshake server disabled.\n"
     ]
    }
   ],
   "source": [
    "import sklearn as sk\n",
    "from sklearn import datasets, decomposition\n",
    "from sklearn.model_selection import train_test_split\n",
    "from sklearn.preprocessing import StandardScaler\n",
    "from sklearn.svm import LinearSVC\n",
    "from matplotlib import pyplot as plt\n",
    "from mpl_toolkits.mplot3d import Axes3D\n",
    "import pandas as pd\n",
    "import cv2\n",
    "import numpy as np\n",
    "import seaborn as sns\n",
    "import glob\n",
    "import imutils\n",
    "import open3d as o3d\n",
    "from sklearn.linear_model import LinearRegression\n",
    "from mpl_toolkits.mplot3d import Axes3D\n",
    "import copy\n",
    "import os"
   ]
  },
  {
   "attachments": {},
   "cell_type": "markdown",
   "metadata": {},
   "source": [
    "# YOU GOT THIS!"
   ]
  },
  {
   "cell_type": "code",
   "execution_count": 1,
   "metadata": {},
   "outputs": [],
   "source": [
    "laser = [47, 211, 38, 53, 204, 116, 152, 249, 143, 177]\n",
    "teplate = [39, 55, 207]\n"
   ]
  },
  {
   "cell_type": "code",
   "execution_count": 17,
   "metadata": {},
   "outputs": [],
   "source": [
    "def ssd(arr, temp):\n",
    "    out = []\n",
    "    for i in range(len(arr)-len(temp)):\n",
    "        print(arr[i:i+len(temp)])\n",
    "        diff = (np.array(arr[i:i+len(temp)])-np.array(temp))\n",
    "        d = (np.sum(diff))**2\n",
    "        out.append(d)\n",
    "    return out\n"
   ]
  },
  {
   "cell_type": "code",
   "execution_count": 18,
   "metadata": {},
   "outputs": [
    {
     "name": "stdout",
     "output_type": "stream",
     "text": [
      "[47, 211, 38]\n",
      "[211, 38, 53]\n",
      "[38, 53, 204]\n",
      "[53, 204, 116]\n",
      "[204, 116, 152]\n",
      "[116, 152, 249]\n",
      "[152, 249, 143]\n",
      "[25, 1, 36, 5184, 29241, 46656, 59049]\n"
     ]
    }
   ],
   "source": [
    "o = ssd(laser, teplate)\n",
    "print(o)"
   ]
  },
  {
   "cell_type": "code",
   "execution_count": 21,
   "metadata": {},
   "outputs": [
    {
     "name": "stdout",
     "output_type": "stream",
     "text": [
      "[[4.83333333]\n",
      " [0.33333333]\n",
      " [7.13333333]\n",
      " [0.93333333]]\n",
      "[[0.06666667 0.         0.06666667 0.        ]\n",
      " [0.06666667 0.1        0.06666667 0.        ]\n",
      " [0.06666667 0.         0.06666667 0.        ]\n",
      " [0.06666667 0.         0.06666667 0.1       ]]\n"
     ]
    }
   ],
   "source": [
    "# The initial state. The robot starts in position 0 with the velocity 0.\n",
    "x = np.array([[5], # Position along the x-axis\n",
    "              [0.5], # Velocity along the x-axis\n",
    "              [7], # Position along the y-axis\n",
    "              [0.8]])# Velocity along the y-axis\n",
    "\n",
    "### Update the rest of the parameters \n",
    "# The initial uncertainty. We start with some very large values.\n",
    "P = np.array([[0.2, 0,0,0],\n",
    "              [0.2, 0.1,0,0],\n",
    "              [0, 0,0.2,0],\n",
    "              [0, 0,0.2,0.1]])\n",
    "\n",
    "# The external motion. Set to 0 here.\n",
    "u = np.array([[0],\n",
    "              [0],[0],[0]])\n",
    "\n",
    "# The transition matrix. \n",
    "F = np.array([[1, 1,0,0],\n",
    "              [0, 1,0,0],\n",
    "              [0, 0,1,1],\n",
    "              [0, 0,0,1]])\n",
    "\n",
    "# The observation matrix. We only get the position as measurement.\n",
    "H = np.array([[1, 0, 0,0], [0, 0, 1,0]])\n",
    "\n",
    "# The measurement uncertainty\n",
    "R = np.array([[0.2,0.2],[0.2,0.2]])\n",
    "\n",
    "def update(x, P, Z, H, R, I):\n",
    "    ### Insert update function\n",
    "    y = Z - H @ x\n",
    "    S = H @ P @ H.T + R\n",
    "\n",
    "    S_inv = np.linalg.pinv(S)\n",
    "\n",
    "    K = P @ H.T @ S_inv\n",
    "\n",
    "    x_new = x + K @ y\n",
    "    p_new = (I - K @ H) @ P\n",
    "    return x_new, p_new\n",
    "    \n",
    "def predict(x, P, F, u):\n",
    "    ### insert predict function\n",
    "    x_new = F @ x + u\n",
    "    p_new = F @ P @ F.T\n",
    "    return x_new, p_new\n",
    "z = np.array([[4.8],[7.1]])\n",
    "I = np.eye(4)\n",
    "x,P = update(x, P, z, H, R, I)\n",
    "\n",
    "print(x)\n",
    "print(P)\n"
   ]
  }
 ],
 "metadata": {
  "kernelspec": {
   "display_name": "pfas",
   "language": "python",
   "name": "python3"
  },
  "language_info": {
   "codemirror_mode": {
    "name": "ipython",
    "version": 3
   },
   "file_extension": ".py",
   "mimetype": "text/x-python",
   "name": "python",
   "nbconvert_exporter": "python",
   "pygments_lexer": "ipython3",
   "version": "3.10.9"
  },
  "orig_nbformat": 4
 },
 "nbformat": 4,
 "nbformat_minor": 2
}
