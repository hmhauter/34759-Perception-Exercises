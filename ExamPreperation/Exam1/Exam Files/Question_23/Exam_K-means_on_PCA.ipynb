{
 "cells": [
  {
   "attachments": {},
   "cell_type": "markdown",
   "metadata": {},
   "source": [
    "# Sub-Question C - K-means on PCA fitted data\n",
    "Provide the iniertia of K-means on the PCA transformed data with the number of clusters found preiviously.\n",
    "\n",
    "Documentation:\n",
    "https://scikit-learn.org/stable/modules/generated/sklearn.cluster.KMeans.html"
   ]
  },
  {
   "cell_type": "code",
   "execution_count": 2,
   "metadata": {},
   "outputs": [],
   "source": [
    "import matplotlib.pyplot as plt  \n",
    "from matplotlib import style \n",
    "from sklearn.cluster import KMeans \n",
    "from sklearn.datasets._samples_generator import make_blobs \n",
    "from sklearn.decomposition import PCA\n",
    "import numpy as np\n",
    "# import sklearn.datasets._samples_generator\n",
    "\n",
    "# Loading the data\n",
    "X = np.loadtxt('clusters.txt', dtype=int)"
   ]
  },
  {
   "cell_type": "code",
   "execution_count": 12,
   "metadata": {},
   "outputs": [
    {
     "name": "stdout",
     "output_type": "stream",
     "text": [
      "3223.8499999999995\n"
     ]
    },
    {
     "name": "stderr",
     "output_type": "stream",
     "text": [
      "/home/hhauter/anaconda3/envs/pfas/lib/python3.10/site-packages/sklearn/cluster/_kmeans.py:870: FutureWarning: The default value of `n_init` will change from 10 to 'auto' in 1.4. Set the value of `n_init` explicitly to suppress the warning\n",
      "  warnings.warn(\n"
     ]
    }
   ],
   "source": [
    "n = 5\n",
    "pca = PCA()\n",
    "principalComponents = pca.fit_transform(X)\n",
    "# pcan = pca.fit(X)\n",
    "# principalComponents = pcan.components_\n",
    "# print(X.shape)\n",
    "# print(principalComponents)\n",
    "km = KMeans(n_clusters = n)\n",
    "km.fit(principalComponents)\n",
    "\n",
    "print(km.inertia_)\n",
    "\n"
   ]
  }
 ],
 "metadata": {
  "kernelspec": {
   "display_name": "Python 3",
   "language": "python",
   "name": "python3"
  },
  "language_info": {
   "codemirror_mode": {
    "name": "ipython",
    "version": 3
   },
   "file_extension": ".py",
   "mimetype": "text/x-python",
   "name": "python",
   "nbconvert_exporter": "python",
   "pygments_lexer": "ipython3",
   "version": "3.10.9"
  }
 },
 "nbformat": 4,
 "nbformat_minor": 4
}
